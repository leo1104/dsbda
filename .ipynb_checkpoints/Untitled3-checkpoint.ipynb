{
 "cells": [
  {
   "cell_type": "code",
   "execution_count": 1,
   "id": "3cb9066e",
   "metadata": {},
   "outputs": [],
   "source": [
    "import pandas as pd\n",
    "import numpy as np"
   ]
  },
  {
   "cell_type": "code",
   "execution_count": 12,
   "id": "7c697621",
   "metadata": {},
   "outputs": [],
   "source": [
    "text=\"The insight and experience of others is a valuable source of inspiration and motivation. And learning from successful leaders and entrepreneurs is a fantastic way to grow.\""
   ]
  },
  {
   "cell_type": "code",
   "execution_count": 8,
   "id": "8b5e6773",
   "metadata": {},
   "outputs": [
    {
     "name": "stderr",
     "output_type": "stream",
     "text": [
      "[nltk_data] Downloading package punkt to /home/leo/nltk_data...\n",
      "[nltk_data]   Unzipping tokenizers/punkt.zip.\n"
     ]
    },
    {
     "data": {
      "text/plain": [
       "True"
      ]
     },
     "execution_count": 8,
     "metadata": {},
     "output_type": "execute_result"
    }
   ],
   "source": [
    "import nltk\n",
    "from nltk import word_tokenize,sent_tokenize\n",
    "nltk.download('punkt')"
   ]
  },
  {
   "cell_type": "code",
   "execution_count": 13,
   "id": "914bf920",
   "metadata": {},
   "outputs": [
    {
     "data": {
      "text/plain": [
       "['The insight and experience of others is a valuable source of inspiration and motivation.',\n",
       " 'And learning from successful leaders and entrepreneurs is a fantastic way to grow.']"
      ]
     },
     "execution_count": 13,
     "metadata": {},
     "output_type": "execute_result"
    }
   ],
   "source": [
    "word_token=word_tokenize(text)\n",
    "\n",
    "sent_tok=sent_tokenize(text)\n",
    "sent_tok"
   ]
  },
  {
   "cell_type": "code",
   "execution_count": 16,
   "id": "d901f48e",
   "metadata": {},
   "outputs": [
    {
     "name": "stderr",
     "output_type": "stream",
     "text": [
      "[nltk_data] Downloading package averaged_perceptron_tagger to\n",
      "[nltk_data]     /home/leo/nltk_data...\n",
      "[nltk_data]   Package averaged_perceptron_tagger is already up-to-\n",
      "[nltk_data]       date!\n"
     ]
    },
    {
     "data": {
      "text/plain": [
       "True"
      ]
     },
     "execution_count": 16,
     "metadata": {},
     "output_type": "execute_result"
    }
   ],
   "source": [
    "nltk.download('averaged_perceptron_tagger')"
   ]
  },
  {
   "cell_type": "code",
   "execution_count": 17,
   "id": "3ea30daf",
   "metadata": {},
   "outputs": [],
   "source": [
    "tag_pos=nltk.pos_tag(word_token)"
   ]
  },
  {
   "cell_type": "code",
   "execution_count": 18,
   "id": "530252be",
   "metadata": {},
   "outputs": [
    {
     "data": {
      "text/plain": [
       "[('The', 'DT'),\n",
       " ('insight', 'NN'),\n",
       " ('and', 'CC'),\n",
       " ('experience', 'NN'),\n",
       " ('of', 'IN'),\n",
       " ('others', 'NNS'),\n",
       " ('is', 'VBZ'),\n",
       " ('a', 'DT'),\n",
       " ('valuable', 'JJ'),\n",
       " ('source', 'NN'),\n",
       " ('of', 'IN'),\n",
       " ('inspiration', 'NN'),\n",
       " ('and', 'CC'),\n",
       " ('motivation', 'NN'),\n",
       " ('.', '.'),\n",
       " ('And', 'CC'),\n",
       " ('learning', 'VBG'),\n",
       " ('from', 'IN'),\n",
       " ('successful', 'JJ'),\n",
       " ('leaders', 'NNS'),\n",
       " ('and', 'CC'),\n",
       " ('entrepreneurs', 'NNS'),\n",
       " ('is', 'VBZ'),\n",
       " ('a', 'DT'),\n",
       " ('fantastic', 'JJ'),\n",
       " ('way', 'NN'),\n",
       " ('to', 'TO'),\n",
       " ('grow', 'VB'),\n",
       " ('.', '.')]"
      ]
     },
     "execution_count": 18,
     "metadata": {},
     "output_type": "execute_result"
    }
   ],
   "source": [
    "tag_pos"
   ]
  },
  {
   "cell_type": "code",
   "execution_count": 20,
   "id": "33888445",
   "metadata": {},
   "outputs": [
    {
     "name": "stderr",
     "output_type": "stream",
     "text": [
      "[nltk_data] Downloading package stopwords to /home/leo/nltk_data...\n",
      "[nltk_data]   Unzipping corpora/stopwords.zip.\n"
     ]
    },
    {
     "data": {
      "text/plain": [
       "True"
      ]
     },
     "execution_count": 20,
     "metadata": {},
     "output_type": "execute_result"
    }
   ],
   "source": [
    "nltk.download('stopwords')"
   ]
  },
  {
   "cell_type": "code",
   "execution_count": 21,
   "id": "ea0e7738",
   "metadata": {},
   "outputs": [
    {
     "data": {
      "text/plain": [
       "['The',\n",
       " 'insight',\n",
       " 'experience',\n",
       " 'others',\n",
       " 'valuable',\n",
       " 'source',\n",
       " 'inspiration',\n",
       " 'motivation',\n",
       " '.',\n",
       " 'And',\n",
       " 'learning',\n",
       " 'successful',\n",
       " 'leaders',\n",
       " 'entrepreneurs',\n",
       " 'fantastic',\n",
       " 'way',\n",
       " 'grow',\n",
       " '.']"
      ]
     },
     "execution_count": 21,
     "metadata": {},
     "output_type": "execute_result"
    }
   ],
   "source": [
    "from nltk.corpus import stopwords\n",
    "stop_wor=set(stopwords.words(\"english\"))\n",
    "cleaned_text=[x for x in word_token if x not in stop_wor]\n",
    "cleaned_text"
   ]
  },
  {
   "cell_type": "code",
   "execution_count": 22,
   "id": "d13ec467",
   "metadata": {},
   "outputs": [
    {
     "name": "stdout",
     "output_type": "stream",
     "text": [
      "The  :  the\n",
      "insight  :  insight\n",
      "experience  :  experi\n",
      "others  :  other\n",
      "valuable  :  valuabl\n",
      "source  :  sourc\n",
      "inspiration  :  inspir\n",
      "motivation  :  motiv\n",
      ".  :  .\n",
      "And  :  and\n",
      "learning  :  learn\n",
      "successful  :  success\n",
      "leaders  :  leader\n",
      "entrepreneurs  :  entrepreneur\n",
      "fantastic  :  fantast\n",
      "way  :  way\n",
      "grow  :  grow\n",
      ".  :  .\n"
     ]
    }
   ],
   "source": [
    "from nltk.stem import PorterStemmer\n",
    "prt_stem=PorterStemmer()\n",
    "\n",
    "for w in cleaned_text:\n",
    "    print(w,\" : \",prt_stem.stem(w))"
   ]
  },
  {
   "cell_type": "code",
   "execution_count": 23,
   "id": "fa6cc694",
   "metadata": {},
   "outputs": [
    {
     "name": "stderr",
     "output_type": "stream",
     "text": [
      "[nltk_data] Downloading package wordnet to /home/leo/nltk_data...\n",
      "[nltk_data]   Unzipping corpora/wordnet.zip.\n"
     ]
    },
    {
     "data": {
      "text/plain": [
       "True"
      ]
     },
     "execution_count": 23,
     "metadata": {},
     "output_type": "execute_result"
    }
   ],
   "source": [
    "nltk.download('wordnet')"
   ]
  },
  {
   "cell_type": "code",
   "execution_count": 25,
   "id": "2076b3d2",
   "metadata": {},
   "outputs": [
    {
     "name": "stderr",
     "output_type": "stream",
     "text": [
      "[nltk_data] Downloading package omw-1.4 to /home/leo/nltk_data...\n",
      "[nltk_data]   Unzipping corpora/omw-1.4.zip.\n"
     ]
    },
    {
     "data": {
      "text/plain": [
       "True"
      ]
     },
     "execution_count": 25,
     "metadata": {},
     "output_type": "execute_result"
    }
   ],
   "source": [
    "nltk.download('omw-1.4')"
   ]
  },
  {
   "cell_type": "code",
   "execution_count": 31,
   "id": "41ea15e9",
   "metadata": {},
   "outputs": [
    {
     "data": {
      "text/plain": [
       "'plan'"
      ]
     },
     "execution_count": 31,
     "metadata": {},
     "output_type": "execute_result"
    }
   ],
   "source": [
    "from nltk.stem import WordNetLemmatizer\n",
    "lemm=WordNetLemmatizer()\n",
    "lemm.lemmatize(\"plans\")"
   ]
  },
  {
   "cell_type": "code",
   "execution_count": null,
   "id": "c469d00e",
   "metadata": {},
   "outputs": [],
   "source": []
  }
 ],
 "metadata": {
  "kernelspec": {
   "display_name": "Python 3 (ipykernel)",
   "language": "python",
   "name": "python3"
  },
  "language_info": {
   "codemirror_mode": {
    "name": "ipython",
    "version": 3
   },
   "file_extension": ".py",
   "mimetype": "text/x-python",
   "name": "python",
   "nbconvert_exporter": "python",
   "pygments_lexer": "ipython3",
   "version": "3.9.7"
  }
 },
 "nbformat": 4,
 "nbformat_minor": 5
}
